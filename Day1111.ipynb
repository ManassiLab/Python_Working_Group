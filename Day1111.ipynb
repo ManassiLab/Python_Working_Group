{
  "nbformat": 4,
  "nbformat_minor": 0,
  "metadata": {
    "colab": {
      "name": "Day1111.ipynb",
      "provenance": [],
      "authorship_tag": "ABX9TyMO1BOQQUcplXa5iHR4VszO",
      "include_colab_link": true
    },
    "kernelspec": {
      "name": "python3",
      "display_name": "Python 3"
    },
    "language_info": {
      "name": "python"
    }
  },
  "cells": [
    {
      "cell_type": "markdown",
      "metadata": {
        "id": "view-in-github",
        "colab_type": "text"
      },
      "source": [
        "<a href=\"https://colab.research.google.com/github/ManassiLab/Python_Working_Group/blob/main/Day1111.ipynb\" target=\"_parent\"><img src=\"https://colab.research.google.com/assets/colab-badge.svg\" alt=\"Open In Colab\"/></a>"
      ]
    },
    {
      "cell_type": "code",
      "execution_count": 1,
      "metadata": {
        "colab": {
          "base_uri": "https://localhost:8080/"
        },
        "id": "CzS6r8klkbiW",
        "outputId": "451fc5a5-7717-4ff5-d93b-5f0c8c192d38"
      },
      "outputs": [
        {
          "output_type": "stream",
          "name": "stdout",
          "text": [
            "hello wooooorld\n"
          ]
        }
      ],
      "source": [
        "print(\"hello wooooorld\")"
      ]
    },
    {
      "cell_type": "code",
      "source": [
        ""
      ],
      "metadata": {
        "id": "-gxmKDoskpe3"
      },
      "execution_count": null,
      "outputs": []
    }
  ]
}